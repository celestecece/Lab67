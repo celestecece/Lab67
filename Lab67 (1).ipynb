{
 "cells": [
  {
   "cell_type": "code",
   "execution_count": null,
   "id": "9c833db3-70e7-4ccc-ac51-50c76431b1d7",
   "metadata": {},
   "outputs": [],
   "source": [
    "Title:Lab6/7:Sensory Physiology"
   ]
  },
  {
   "cell_type": "code",
   "execution_count": null,
   "id": "51ed3001-a881-4735-899e-53a70b491369",
   "metadata": {},
   "outputs": [],
   "source": [
    "##Purpose:Overall, this lab aims to provide a hands-on experience to reinforce our knowledge about sensory physiology, and to explore and understand the intricacies of human sensory perception.\n"
   ]
  },
  {
   "cell_type": "code",
   "execution_count": null,
   "id": "daee860b-7224-4384-9cef-191abfc76937",
   "metadata": {},
   "outputs": [],
   "source": [
    "##Procedures:"
   ]
  },
  {
   "cell_type": "code",
   "execution_count": null,
   "id": "51b207a8-5966-46f3-b972-b2ddae61c21a",
   "metadata": {},
   "outputs": [],
   "source": [
    "6/7-A: Tests of Cutaneous Sensation\n",
    "\n",
    "A-1: Two-Point Discrimination\n",
    "Objective: Measure the ability to distinguish two distinct points on the skin surface.\n",
    "\n",
    "1.)Close your partner's eyes and apply two caliper pinpoints closely on their hand's palm.\n",
    "2.)Gradually move the pins 1 millimeter apart and repeat until two distinct points are discerned.\n",
    "3.)Record the distance between pins when discrimination occurs.\n",
    "4.)Compare results on different areas: palm, back of hand, fingertip, outer edge of lips, and back of neck.\n",
    "5.)Have your partner repeat the experiment on your skin.\n",
    "6.)Interpret the obtained results.\n",
    "\n",
    "A-2: Accommodation of Thermoreceptors\n",
    "Objective: Record accommodation (sensory adaptation) of cutaneous thermoreceptors.\n",
    "\n",
    "1.)Place left fingers in 15°C water and right fingers in warm water (37°C) for 2 minutes.\n",
    "2.)Describe the sensation in each hand after immersion.\n",
    "3.)Remove hands and place them both in 25°C water. Describe immediate sensations.\n",
    "\n",
    "These exercises aim to evaluate cutaneous sensation by measuring two-point discrimination and assessing how thermoreceptors accommodate to varying temperatures. \n",
    "Results from different areas of the body are compared, providing insights into the intricacies of cutaneous sensory perception.\n",
    "\n"
   ]
  },
  {
   "cell_type": "markdown",
   "id": "0390f81f-1bcd-4e41-9c61-175dc9404019",
   "metadata": {},
   "source": [
    "##Results:\n"
   ]
  },
  {
   "cell_type": "markdown",
   "id": "d3c0ae91-5620-4d23-9f8f-47bf81f84e2b",
   "metadata": {},
   "source": [
    "import matplotlib.pyplot as plt"
   ]
  },
  {
   "cell_type": "code",
   "execution_count": null,
   "id": "f9002863-00d2-47ea-9d03-36c9ef8ccd0d",
   "metadata": {},
   "outputs": [],
   "source": [
    "##Audiometry"
   ]
  },
  {
   "cell_type": "code",
   "execution_count": null,
   "id": "5f8c20f8-35ce-4c40-985d-3bd3e5b40cb5",
   "metadata": {},
   "outputs": [],
   "source": [
    "RIGHT_500 = 10\n",
    "RIGHT_1000 = 15\n",
    "RIGHT_2000 = 10\n",
    "\n",
    "LEFT_500 = 20\n",
    "LEFT_1000 = 30\n",
    "LEFT_2000 = 40"
   ]
  },
  {
   "cell_type": "code",
   "execution_count": null,
   "id": "da312a12-338d-4592-a129-9d39f17d4530",
   "metadata": {},
   "outputs": [],
   "source": [
    "Right_x = 500,1000,2000\n",
    "Right_y = RIGHT_500, RIGHT_1000, RIGHT_2000\n",
    "\n",
    "Left_x = Right_x\n",
    "Left_y = LEFT_500, LEFT_1000, LEFT_2000"
   ]
  },
  {
   "cell_type": "code",
   "execution_count": null,
   "id": "c09e80ab-240e-41ae-9aa2-65a88929f986",
   "metadata": {},
   "outputs": [],
   "source": [
    "plt.plot(Right_x, Right_y, '-o', label = \"Right\" )\n",
    "plt.plot(Left_x, Left_y, '-o', label = \"Left\" )\n",
    "plt.ylabel('Loudness (dB)')\n",
    "plt.xlabel(\"Frequency (MHz)\")\n",
    "plt.title('Right and Left Hearing Profiles')\n",
    "plt.legend()\n",
    "plt.show()"
   ]
  },
  {
   "cell_type": "code",
   "execution_count": null,
   "id": "50c20eca-9be7-41d6-94cc-0e0ae5a7a102",
   "metadata": {},
   "outputs": [],
   "source": []
  },
  {
   "cell_type": "markdown",
   "id": "616d1817-b1bf-4e4a-8cf1-d3ad24e9f7f9",
   "metadata": {
    "tags": []
   },
   "source": [
    "# Calculate the average for the right side\n",
    "average_right = sum(Right_y) / len(Right_y)\n",
    "\n",
    "# Calculate the average for the left side\n",
    "average_left = sum(Left_y) / len(Left_y)\n",
    "\n",
    "# Subtract 26 from each average\n",
    "average_right -= 26\n",
    "average_left -= 26\n",
    "\n",
    "# Calculate percent impairment for the right side\n",
    "if average_right > 0:\n",
    "    percent_impairment_right = average_right * 1.5\n",
    "else:\n",
    "    percent_impairment_right = \"Not impaired\"\n",
    "\n",
    "# Calculate percent impairment for the left side\n",
    "if average_left > 0:\n",
    "    percent_impairment_left = average_left * 1.5\n",
    "else:\n",
    "    percent_impairment_left = \"Not impaired\"\n",
    "\n",
    "print(\"Average Right after subtraction:\", average_right)\n",
    "print(\"Percent Impairment Right:\", percent_impairment_right, \"%\")\n",
    "\n",
    "print(\"Average Left after subtraction:\", average_left)\n",
    "print(\"Percent Impairment Left:\", percent_impairment_left, \"%\")"
   ]
  },
  {
   "cell_type": "code",
   "execution_count": null,
   "id": "63c63492-ac2f-4a67-ab2d-32e019cd38dd",
   "metadata": {},
   "outputs": [],
   "source": [
    "Average Right after subtraction: -14.333333333333334\n",
    "Percent Impairment Right: Not impaired %\n",
    "Average Left after subtraction: 4.0\n",
    "Percent Impairment Left: 6.0 %"
   ]
  },
  {
   "cell_type": "code",
   "execution_count": null,
   "id": "af0aa63f-0c37-4cf2-820a-85eef69ef7f5",
   "metadata": {},
   "outputs": [],
   "source": [
    "##Discussion:The three components of sensation are:\n",
    "\n",
    "Receptors: These are specialized sensory cells or nerve endings that respond to specific environmental stimuli. Receptors generate impulses when activated by stimuli such as touch, smell, taste, sound, light, or temperature.\n",
    "\n",
    "Sensory Neurons: Once receptors are activated, sensory neurons transmit the generated impulses through afferent pathways to the central nervous system (CNS). These neurons carry information from the periphery to the brain or spinal cord.\n",
    "\n",
    "Interpretation Centers: These are areas within the cerebral cortex of the brain responsible for translating the incoming neural impulses into perceived sensations. Interpretation centers play a crucial role in making sense of sensory information and creating conscious awareness of stimuli.\n",
    "\n",
    "\n",
    "**Accommodation, also known as sensory adaptation, refers to the process by which sensory receptors become less responsive or generate fewer impulses in response to a constant or repetitive stimulus.  It allows the sensory system to filter out background information and focus on changes or new stimuli in the environment.\n"
   ]
  },
  {
   "cell_type": "code",
   "execution_count": null,
   "id": "3176b61f-af69-4c23-b359-31e5ca2f1621",
   "metadata": {},
   "outputs": [],
   "source": [
    "##Conclusion:\n",
    "1.)Filtering Irrelevant Information: In everyday environments, there is a constant influx of sensory stimuli. Sensory adaptation helps the nervous system to filter out repetitive or constant stimuli that are not relevant to the current situation. \n",
    "This filtering mechanism prevents sensory overload and allows individuals to focus on new or changing stimuli.\n",
    "\n",
    "2.)Energy Conservation: Continuous signaling of sensory receptors requires energy. \n",
    "Sensory adaptation helps conserve energy by reducing the frequency of nerve impulses when stimuli are consistent. \n",
    "This is particularly important for sensory systems like vision, hearing, and touch.\n",
    "\n",
    "3.)Enhancing Sensitivity to Changes: By reducing responsiveness to constant stimuli,\n",
    "accommodation increases the sensitivity of sensory receptors to changes in the environment. This heightened sensitivity to new or changing stimuli is crucial for detecting potential threats or important events.\n",
    "\n",
    "4.)Preventing Overstimulation: Prolonged exposure to a strong or constant stimulus can lead to a decrease in sensitivity, preventing sensory receptors from becoming overwhelmed. Sensory adaptation helps maintain an optimal level of responsiveness, preventing overstimulation and maintaining the ability to detect important changes.\n",
    "\n",
    "5.)Adjusting to Environmental Conditions: Sensory adaptation allows the sensory system to adjust to different\n",
    "environmental conditions. For example, when entering a dark room from a bright environment, visual adaptation occurs, improving the ability to see in low-light conditions."
   ]
  }
 ],
 "metadata": {
  "kernelspec": {
   "display_name": "",
   "name": ""
  },
  "language_info": {
   "name": ""
  }
 },
 "nbformat": 4,
 "nbformat_minor": 5
}
